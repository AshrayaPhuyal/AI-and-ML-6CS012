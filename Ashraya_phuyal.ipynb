{
  "cells": [
    {
      "cell_type": "markdown",
      "metadata": {
        "id": "r3g8DFLJePRW"
      },
      "source": [
        "# Worksheet 0 - A Tutorial and Assessment on Python and NumPy\n"
      ]
    },
    {
      "cell_type": "markdown",
      "metadata": {
        "id": "_z1JTr8peTtn"
      },
      "source": [
        "## Task 1: Unit Conversion"
      ]
    },
    {
      "cell_type": "code",
      "execution_count": 16,
      "metadata": {
        "colab": {
          "base_uri": "https://localhost:8080/"
        },
        "id": "e3cHT-cIeXJz",
        "outputId": "b617bca9-6af9-4fc9-ff21-e2f94d58f347"
      },
      "outputs": [
        {
          "output_type": "stream",
          "name": "stdout",
          "text": [
            "Choose conversion type:\n",
            "1. Length (meters <-> feet)\n",
            "2. Weight (kilograms <-> pounds)\n",
            "3. Volume (liters <-> gallons)\n",
            "Enter 1, 2, or 3: 3\n",
            "Enter value: 5\n",
            "Enter current unit (L/gal): 4\n",
            "Invalid unit.\n"
          ]
        }
      ],
      "source": [
        "def convert_units():\n",
        "    \"\"\"\n",
        "    Converts between different units of measurement.\n",
        "\n",
        "    Returns:\n",
        "        None\n",
        "    \"\"\"\n",
        "    print(\"Choose conversion type:\")\n",
        "    print(\"1. Length (meters <-> feet)\")\n",
        "    print(\"2. Weight (kilograms <-> pounds)\")\n",
        "    print(\"3. Volume (liters <-> gallons)\")\n",
        "\n",
        "    try:\n",
        "        choice = int(input(\"Enter 1, 2, or 3: \"))\n",
        "\n",
        "        if choice == 1:\n",
        "            value = float(input(\"Enter value: \"))\n",
        "            unit = input(\"Enter current unit (m/ft): \").lower()\n",
        "            if unit == 'm':\n",
        "                print(f\"{value} meters = {value * 3.28084} feet\")\n",
        "            elif unit == 'ft':\n",
        "                print(f\"{value} feet = {value / 3.28084} meters\")\n",
        "            else:\n",
        "                print(\"Invalid unit.\")\n",
        "\n",
        "        elif choice == 2:\n",
        "            value = float(input(\"Enter value: \"))\n",
        "            unit = input(\"Enter current unit (kg/lbs): \").lower()\n",
        "            if unit == 'kg':\n",
        "                print(f\"{value} kg = {value * 2.20462} lbs\")\n",
        "            elif unit == 'lbs':\n",
        "                print(f\"{value} lbs = {value / 2.20462} kg\")\n",
        "            else:\n",
        "                print(\"Invalid unit.\")\n",
        "\n",
        "        elif choice == 3:\n",
        "            value = float(input(\"Enter value: \"))\n",
        "            unit = input(\"Enter current unit (L/gal): \").lower()\n",
        "            if unit == 'l':\n",
        "                print(f\"{value} liters = {value * 0.264172} gallons\")\n",
        "            elif unit == 'gal':\n",
        "                print(f\"{value} gallons = {value / 0.264172} liters\")\n",
        "            else:\n",
        "                print(\"Invalid unit.\")\n",
        "\n",
        "        else:\n",
        "            print(\"Invalid choice.\")\n",
        "\n",
        "    except ValueError:\n",
        "        print(\"Invalid input. Please enter numerical values.\")\n",
        "\n",
        "convert_units()\n",
        "\n",
        "\n"
      ]
    },
    {
      "cell_type": "markdown",
      "metadata": {
        "id": "VPuIbv0BjkfS"
      },
      "source": [
        "## Task 2: Mathematical Operations"
      ]
    },
    {
      "cell_type": "code",
      "execution_count": 17,
      "metadata": {
        "id": "Hr2fP4UwjqPi",
        "colab": {
          "base_uri": "https://localhost:8080/"
        },
        "outputId": "ba05e474-e59e-41bb-d164-575438820ef7"
      },
      "outputs": [
        {
          "output_type": "stream",
          "name": "stdout",
          "text": [
            "Enter numbers separated by spaces: 5\n",
            "Choose operation:\n",
            "1. Sum\n",
            "2. Average\n",
            "3. Maximum\n",
            "4. Minimum\n",
            "Enter 1, 2, 3, or 4: 4\n",
            "Minimum: 5.0\n"
          ]
        }
      ],
      "source": [
        "def calculate():\n",
        "    \"\"\"\n",
        "    Performs various mathematical operations on a list of numbers.\n",
        "\n",
        "    Returns:\n",
        "        None\n",
        "    \"\"\"\n",
        "    try:\n",
        "        numbers = list(map(float, input(\"Enter numbers separated by spaces: \").split()))\n",
        "        if not numbers:\n",
        "            raise ValueError(\"List is empty.\")\n",
        "\n",
        "        print(\"Choose operation:\")\n",
        "        print(\"1. Sum\")\n",
        "        print(\"2. Average\")\n",
        "        print(\"3. Maximum\")\n",
        "        print(\"4. Minimum\")\n",
        "\n",
        "        choice = int(input(\"Enter 1, 2, 3, or 4: \"))\n",
        "\n",
        "        if choice == 1:\n",
        "            print(f\"Sum: {sum(numbers)}\")\n",
        "        elif choice == 2:\n",
        "            print(f\"Average: {sum(numbers) / len(numbers)}\")\n",
        "        elif choice == 3:\n",
        "            print(f\"Maximum: {max(numbers)}\")\n",
        "        elif choice == 4:\n",
        "            print(f\"Minimum: {min(numbers)}\")\n",
        "        else:\n",
        "            print(\"Invalid choice.\")\n",
        "\n",
        "    except ValueError as e:\n",
        "        print(f\"Error: {e}\")\n",
        "\n",
        "calculate()\n"
      ]
    },
    {
      "cell_type": "markdown",
      "metadata": {
        "id": "8VbjUza_kmqN"
      },
      "source": [
        "## Task 3: List Manipulations"
      ]
    },
    {
      "cell_type": "code",
      "execution_count": 20,
      "metadata": {
        "id": "w1P8X2P1ktQc"
      },
      "outputs": [],
      "source": [
        "def extract_every_other(lst):\n",
        "    return lst[::2]\n",
        "def get_sublist(lst, start, end):\n",
        "    return lst[start:end+1]\n",
        "def reverse_list(lst):\n",
        "    return lst[::-1]\n",
        "def remove_first_last(lst):\n",
        "    return lst[1:-1]\n",
        "def get_first_n(lst, n):\n",
        "    return lst[:n]\n",
        "def get_last_n(lst, n):\n",
        "    return lst[-n:]\n",
        "def reverse_skip(lst):\n",
        "    return lst[-2::-2]\n",
        "\n"
      ]
    },
    {
      "cell_type": "code",
      "execution_count": 23,
      "metadata": {
        "id": "81d5_chppAaj",
        "colab": {
          "base_uri": "https://localhost:8080/"
        },
        "outputId": "3315ac58-1a00-40ad-d3f2-820ec69c9c12"
      },
      "outputs": [
        {
          "output_type": "stream",
          "name": "stdout",
          "text": [
            "every other element: [1, 3, 5]\n",
            "sublist(2,4): [3, 4, 5]\n",
            "reversed list: [6, 5, 4, 3, 2, 1]\n",
            "without first and last: [2, 3, 4, 5]\n",
            "first 3: [1, 2, 3]\n",
            "last 3: [5, 6]\n",
            "reverse skip: [5, 3, 1]\n"
          ]
        }
      ],
      "source": [
        "# Exapmle usage\n",
        "lst = [1, 2, 3, 4, 5, 6]\n",
        "print(\"every other element:\",extract_every_other(lst))\n",
        "print(\"sublist(2,4):\",get_sublist(lst, 2,4))\n",
        "print(\"reversed list:\",reverse_list(lst))\n",
        "print(\"without first and last:\",remove_first_last(lst))\n",
        "print(\"first 3:\",get_first_n(lst, 3))\n",
        "print(\"last 3:\",get_last_n(lst, 2))\n",
        "print(\"reverse skip:\",reverse_skip(lst))"
      ]
    },
    {
      "cell_type": "markdown",
      "metadata": {
        "id": "RF7J0MmPpTEL"
      },
      "source": [
        "## Task 4: Nested List Operations"
      ]
    },
    {
      "cell_type": "code",
      "execution_count": 40,
      "metadata": {
        "id": "vu0uZ5LHpVzD",
        "colab": {
          "base_uri": "https://localhost:8080/"
        },
        "outputId": "bdc94d9b-02e4-4975-bacb-ee8f1a75f36d"
      },
      "outputs": [
        {
          "output_type": "stream",
          "name": "stdout",
          "text": [
            "Flattened list: [1, 2, 3, 4, 5, 6]\n",
            "Accessing [1, 2]: 6\n",
            "Sum of elements: 21\n",
            "Remove 2: [[1], [3], [4, 5]]\n",
            "Max element: 6\n",
            "Count 2: 3\n",
            "Average: 3.5\n"
          ]
        }
      ],
      "source": [
        "def flatten(lst):\n",
        "    \"\"\"Recursively flattens a nested list.\"\"\"\n",
        "    return [item for sublist in lst for item in (flatten(sublist) if isinstance(sublist, list) else [sublist])]\n",
        "\n",
        "def access_nested_element(lst, indices):\n",
        "    \"\"\"Accesses an element in a nested list using a list of indices.\"\"\"\n",
        "    for index in indices:\n",
        "        lst = lst[index]\n",
        "    return lst\n",
        "\n",
        "def nested_sum(lst):\n",
        "    \"\"\"Computes the sum of all elements in a nested list.\"\"\"\n",
        "    return sum(flatten(lst))\n",
        "\n",
        "def remove_element(lst, element):\n",
        "    \"\"\"Removes all occurrences of a specific element from a nested list.\"\"\"\n",
        "    return [[x for x in sublist if x != element] for sublist in lst]\n",
        "\n",
        "def find_max(lst):\n",
        "    \"\"\"Finds the maximum element in a nested list.\"\"\"\n",
        "    return max(flatten(lst))\n",
        "\n",
        "def count_occurrences(lst, element):\n",
        "    \"\"\"Counts occurrences of an element in a nested list.\"\"\"\n",
        "    return flatten(lst).count(element)\n",
        "\n",
        "def average_nested(lst):\n",
        "    \"\"\"Computes the average of all elements in a nested list.\"\"\"\n",
        "    flat = flatten(lst)\n",
        "    return sum(flat) / len(flat) if flat else 0  # Avoid division by zero\n",
        "\n",
        "# Example usage\n",
        "nested_lst = [[1, 2], [3, [4, 5]], 6]\n",
        "print(\"Flattened list:\", flatten(nested_lst))\n",
        "print(\"Accessing [1, 2]:\", access_nested_element([[1, 2, 3], [4, 5, 6], [7, 8, 9]], [1, 2]))\n",
        "print(\"Sum of elements:\", nested_sum(nested_lst))\n",
        "print(\"Remove 2:\", remove_element([[1, 2], [3, 2], [4, 5]], 2))\n",
        "print(\"Max element:\", find_max(nested_lst))\n",
        "print(\"Count 2:\", count_occurrences([[1, 2], [2, 3], [2, 4]], 2))\n",
        "print(\"Average:\", average_nested([[1, 2], [3, 4], [5, 6]]))\n"
      ]
    },
    {
      "cell_type": "markdown",
      "metadata": {
        "id": "y3E6JybGsYzS"
      },
      "source": [
        "## NumPy Exercises"
      ]
    },
    {
      "cell_type": "markdown",
      "metadata": {
        "id": "kidHMqZHsb6I"
      },
      "source": [
        "### Task 1: Creating and Manipulating NumPy Arrays"
      ]
    },
    {
      "cell_type": "code",
      "execution_count": 30,
      "metadata": {
        "id": "6apAcPrzsfAS",
        "colab": {
          "base_uri": "https://localhost:8080/"
        },
        "outputId": "2cc6c616-7d99-4ef1-e682-ae0498f39fe9"
      },
      "outputs": [
        {
          "output_type": "stream",
          "name": "stdout",
          "text": [
            "1D Array:\n",
            "[1 2 3 4 5]\n",
            "2D Array:\n",
            "[[1 2 3]\n",
            " [4 5 6]]\n",
            "Zeros Array:\n",
            "[[0. 0. 0.]\n",
            " [0. 0. 0.]]\n",
            "Ones Array:\n",
            "[[1. 1.]\n",
            " [1. 1.]\n",
            " [1. 1.]]\n",
            "Random Array:\n",
            "[[0.08771405 0.6243725  0.34866424]\n",
            " [0.99991328 0.21184052 0.90129005]\n",
            " [0.39024734 0.61467418 0.13861642]]\n",
            "Reshaped 1D Array:\n",
            "[[1]\n",
            " [2]\n",
            " [3]\n",
            " [4]\n",
            " [5]]\n",
            "element at (0,1): 2\n",
            "first row: [1 2 3]\n",
            "second column: [2 5]\n"
          ]
        }
      ],
      "source": [
        "import numpy as np\n",
        "\n",
        "# Creating arrays\n",
        "arr_1d = np.array([1, 2, 3, 4, 5])\n",
        "arr_2d = np.array([[1, 2, 3], [4, 5, 6]])\n",
        "arr_zeros = np.zeros((2, 3))\n",
        "arr_ones = np.ones((3, 2))\n",
        "arr_random = np.random.rand(3, 3)\n",
        "\n",
        "print(\"1D Array:\")\n",
        "print(arr_1d)\n",
        "print(\"2D Array:\")\n",
        "print(arr_2d)\n",
        "print(\"Zeros Array:\")\n",
        "print(arr_zeros)\n",
        "print(\"Ones Array:\")\n",
        "print(arr_ones)\n",
        "print(\"Random Array:\")\n",
        "print(arr_random)\n",
        "\n",
        "\n",
        "# Reshaping an array\n",
        "reshaped_arr = arr_1d.reshape(5,1)\n",
        "print(\"Reshaped 1D Array:\")\n",
        "print(reshaped_arr)\n",
        "\n",
        "# Accesing elements\n",
        "print(\"element at (0,1):\", arr_2d[0, 1])\n",
        "print(\"first row:\", arr_2d[0])\n",
        "print(\"second column:\", arr_2d[:, 1])"
      ]
    },
    {
      "cell_type": "markdown",
      "metadata": {
        "id": "DFoGHYPruHt4"
      },
      "source": [
        "### Task 2: NumPy Array Operations"
      ]
    },
    {
      "cell_type": "code",
      "execution_count": 31,
      "metadata": {
        "id": "OyrJFymDuMZk",
        "colab": {
          "base_uri": "https://localhost:8080/"
        },
        "outputId": "d4d65c18-01db-4516-eb45-109f88c3cf37"
      },
      "outputs": [
        {
          "output_type": "stream",
          "name": "stdout",
          "text": [
            "a + b: [5 7 9]\n",
            "a - b: [-3 -3 -3]\n",
            "a * b: [ 4 10 18]\n",
            "a / b: [0.25 0.4  0.5 ]\n",
            "Exponential: [ 2.71828183  7.3890561  20.08553692]\n",
            "Square root: [1.         1.41421356 1.73205081]\n",
            "Logarithm: [0.         0.69314718 1.09861229]\n",
            "Dot Product: [[19 22]\n",
            " [43 50]]\n",
            "Inverse of A: [[-2.   1. ]\n",
            " [ 1.5 -0.5]]\n",
            "Determinant of A: -2.0000000000000004\n"
          ]
        }
      ],
      "source": [
        "#arithmetic operations\n",
        "a = np.array([1, 2, 3])\n",
        "b = np.array([4, 5, 6])\n",
        "\n",
        "print(\"a + b:\", a + b)\n",
        "print(\"a - b:\", a - b)\n",
        "print(\"a * b:\", a * b)\n",
        "print(\"a / b:\", a / b)\n",
        "\n",
        "#Universal functions\n",
        "print(\"Exponential:\", np.exp(a))\n",
        "print(\"Square root:\", np.sqrt(a))\n",
        "print(\"Logarithm:\", np.log(a))\n",
        "\n",
        "# Linear algebra operations\n",
        "matrix_A = np.array([[1, 2], [3, 4]])\n",
        "matrix_B = np.array([[5, 6], [7, 8]])\n",
        "\n",
        "print(\"Dot Product:\", np.dot(matrix_A, matrix_B))\n",
        "print(\"Inverse of A:\", np.linalg.inv(matrix_A))\n",
        "print(\"Determinant of A:\", np.linalg.det(matrix_A))"
      ]
    },
    {
      "cell_type": "markdown",
      "metadata": {
        "id": "LTC_7276vR5s"
      },
      "source": [
        "### Task 3: Slicing and Indexing"
      ]
    },
    {
      "cell_type": "code",
      "execution_count": 32,
      "metadata": {
        "id": "j4h9HXGSvULY",
        "colab": {
          "base_uri": "https://localhost:8080/"
        },
        "outputId": "c66c4e59-90fc-4b6c-ae56-59809e779df5"
      },
      "outputs": [
        {
          "output_type": "stream",
          "name": "stdout",
          "text": [
            "first three elements: [10 20 30]\n",
            "last two elements: [40 50]\n",
            "every other element: [10 30 50]\n",
            "First two rows: [[1 2 3]\n",
            " [4 5 6]]\n",
            "Last column: [3 6]\n"
          ]
        }
      ],
      "source": [
        "#Slicing in 1D array\n",
        "arr = np.array([10, 20, 30, 40, 50])\n",
        "print(\"first three elements:\", arr[:3])\n",
        "print(\"last two elements:\", arr[-2:])\n",
        "print(\"every other element:\", arr[::2])\n",
        "\n",
        "#Slicing in 2D array\n",
        "matrix = np.array([[1, 2, 3], [4, 5, 6], [7, 8, 9]])\n",
        "print(\"First two rows:\", arr_2d[:2, :])\n",
        "print(\"Last column:\", arr_2d[:, -1])"
      ]
    },
    {
      "cell_type": "markdown",
      "metadata": {
        "id": "7vhfXHRJwJMj"
      },
      "source": [
        "### Task 4: Broadcasting"
      ]
    },
    {
      "cell_type": "code",
      "execution_count": 33,
      "metadata": {
        "id": "cOCZXRKowL62",
        "colab": {
          "base_uri": "https://localhost:8080/"
        },
        "outputId": "bc4ab5d5-82c5-4075-c405-1a94b5341372"
      },
      "outputs": [
        {
          "output_type": "stream",
          "name": "stdout",
          "text": [
            "Broadcasting result: [[11 21 31]\n",
            " [12 22 32]\n",
            " [13 23 33]]\n"
          ]
        }
      ],
      "source": [
        "#Broadcasting exapmle\n",
        "A = np.array([[1], [2], [3]])\n",
        "B = np.array([10, 20, 30])\n",
        "C = A + B\n",
        "print(\"Broadcasting result:\", C)"
      ]
    },
    {
      "cell_type": "markdown",
      "metadata": {
        "id": "VmOfPEdSws6X"
      },
      "source": [
        "### Task 5: Error Handling in NumPye\n",
        "\n"
      ]
    },
    {
      "cell_type": "code",
      "execution_count": 34,
      "metadata": {
        "id": "pMdCW0kCwx6J",
        "colab": {
          "base_uri": "https://localhost:8080/"
        },
        "outputId": "02b0615f-636b-4102-b5d6-50e7181f2187"
      },
      "outputs": [
        {
          "output_type": "stream",
          "name": "stdout",
          "text": [
            "Indexerror index 5 is out of bounds for axis 0 with size 3\n",
            "ValueError: operands could not be broadcast together with shapes (3,) (2,2) \n"
          ]
        }
      ],
      "source": [
        "# Handling index errors\n",
        "arr = np.array([1, 2, 3])\n",
        "try:\n",
        "    print( arr[5]) # This will cause an error\n",
        "except IndexError as e:\n",
        "    print(\"Indexerror\",e)\n",
        "\n",
        "# Handling shape errors\n",
        "try:\n",
        "    a = np.array([1, 2, 3])\n",
        "    b = np.array([[4, 5], [6, 7]])\n",
        "    print(a + b)  # This will cause an error\n",
        "except ValueError as e:\n",
        "    print(\"ValueError:\", e)\n"
      ]
    },
    {
      "cell_type": "markdown",
      "source": [
        "Numpy Speed Test\n"
      ],
      "metadata": {
        "id": "2-8MRIry93s1"
      }
    },
    {
      "cell_type": "code",
      "source": [
        "import time\n",
        "import numpy as np\n"
      ],
      "metadata": {
        "id": "MGSGGnNC94kM"
      },
      "execution_count": 35,
      "outputs": []
    },
    {
      "cell_type": "code",
      "source": [
        "# 1. Element-wise Addition\n",
        "size = 1_000_000\n",
        "list1 = list(range(size))\n",
        "list2 = list(range(size))\n",
        "\n",
        "start_time = time.time()\n",
        "result_list = [list1[i] + list2[i] for i in range(size)]\n",
        "end_time = time.time()\n",
        "print(f\"Python List Addition Time: {end_time - start_time:.5f} seconds\")\n",
        "\n",
        "array1 = np.arange(size)\n",
        "array2 = np.arange(size)\n",
        "\n",
        "start_time = time.time()\n",
        "result_array = array1 + array2\n",
        "end_time = time.time()\n",
        "print(f\"NumPy Array Addition Time: {end_time - start_time:.5f} seconds\")"
      ],
      "metadata": {
        "colab": {
          "base_uri": "https://localhost:8080/"
        },
        "id": "4_bJLNJv964c",
        "outputId": "03fac915-eea1-4ee6-d8ba-32a797d4e670"
      },
      "execution_count": 36,
      "outputs": [
        {
          "output_type": "stream",
          "name": "stdout",
          "text": [
            "Python List Addition Time: 0.18819 seconds\n",
            "NumPy Array Addition Time: 0.01899 seconds\n"
          ]
        }
      ]
    },
    {
      "cell_type": "code",
      "source": [
        "# 2. Element-wise Multiplication\n",
        "start_time = time.time()\n",
        "result_list = [list1[i] * list2[i] for i in range(size)]\n",
        "end_time = time.time()\n",
        "print(f\"Python List Multiplication Time: {end_time - start_time:.5f} seconds\")\n",
        "\n",
        "start_time = time.time()\n",
        "result_array = array1 * array2\n",
        "end_time = time.time()\n",
        "print(f\"NumPy Array Multiplication Time: {end_time - start_time:.5f} seconds\")"
      ],
      "metadata": {
        "colab": {
          "base_uri": "https://localhost:8080/"
        },
        "id": "AzGS6IOg99s_",
        "outputId": "812caef6-55df-4244-de06-91ebef3cbee2"
      },
      "execution_count": 37,
      "outputs": [
        {
          "output_type": "stream",
          "name": "stdout",
          "text": [
            "Python List Multiplication Time: 0.19376 seconds\n",
            "NumPy Array Multiplication Time: 0.02334 seconds\n"
          ]
        }
      ]
    },
    {
      "cell_type": "code",
      "source": [
        "# 3. Dot Product\n",
        "start_time = time.time()\n",
        "dot_product = sum(list1[i] * list2[i] for i in range(size))\n",
        "end_time = time.time()\n",
        "print(f\"Python List Dot Product Time: {end_time - start_time:.5f} seconds\")\n",
        "\n",
        "start_time = time.time()\n",
        "dot_product = np.dot(array1, array2)\n",
        "end_time = time.time()\n",
        "print(f\"NumPy Array Dot Product Time: {end_time - start_time:.5f} seconds\")"
      ],
      "metadata": {
        "colab": {
          "base_uri": "https://localhost:8080/"
        },
        "id": "JG80Xnn1-A04",
        "outputId": "e7e80f53-97af-4c67-903f-6790b08956d1"
      },
      "execution_count": 38,
      "outputs": [
        {
          "output_type": "stream",
          "name": "stdout",
          "text": [
            "Python List Dot Product Time: 0.09584 seconds\n",
            "NumPy Array Dot Product Time: 0.00183 seconds\n"
          ]
        }
      ]
    },
    {
      "cell_type": "code",
      "source": [
        "# 4. Matrix Multiplication\n",
        "matrix_size = 1000\n",
        "matrix1 = [[i * j for j in range(matrix_size)] for i in range(matrix_size)]\n",
        "matrix2 = [[i + j for j in range(matrix_size)] for i in range(matrix_size)]\n",
        "\n",
        "start_time = time.time()\n",
        "result_matrix = [[sum(matrix1[i][k] * matrix2[k][j] for k in range(matrix_size)) for j in range(matrix_size)] for i in range(matrix_size)]\n",
        "end_time = time.time()\n",
        "print(f\"Python List Matrix Multiplication Time: {end_time - start_time:.5f} seconds\")\n",
        "\n",
        "np_matrix1 = np.array(matrix1)\n",
        "np_matrix2 = np.array(matrix2)\n",
        "\n",
        "start_time = time.time()\n",
        "result_np_matrix = np.dot(np_matrix1, np_matrix2)\n",
        "end_time = time.time()\n",
        "print(f\"NumPy Array Matrix Multiplication Time: {end_time - start_time:.5f} seconds\")"
      ],
      "metadata": {
        "colab": {
          "base_uri": "https://localhost:8080/"
        },
        "id": "ov0gtpT9-DdW",
        "outputId": "ce88058c-30c3-438a-df19-439a24c14a8f"
      },
      "execution_count": 39,
      "outputs": [
        {
          "output_type": "stream",
          "name": "stdout",
          "text": [
            "Python List Matrix Multiplication Time: 200.36746 seconds\n",
            "NumPy Array Matrix Multiplication Time: 1.27328 seconds\n"
          ]
        }
      ]
    }
  ],
  "metadata": {
    "colab": {
      "provenance": []
    },
    "kernelspec": {
      "display_name": "Python 3",
      "name": "python3"
    },
    "language_info": {
      "name": "python"
    }
  },
  "nbformat": 4,
  "nbformat_minor": 0
}